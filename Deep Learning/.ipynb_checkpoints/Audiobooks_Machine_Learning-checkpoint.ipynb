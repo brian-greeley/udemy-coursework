{
 "cells": [
  {
   "cell_type": "markdown",
   "metadata": {},
   "source": [
    "# Create the machine learning algorithm"
   ]
  },
  {
   "cell_type": "markdown",
   "metadata": {},
   "source": [
    "## Import the relevant libraries"
   ]
  },
  {
   "cell_type": "code",
   "execution_count": 1,
   "metadata": {},
   "outputs": [],
   "source": [
    "import numpy as np\n",
    "import tensorflow as tf"
   ]
  },
  {
   "cell_type": "markdown",
   "metadata": {},
   "source": [
    "## Data"
   ]
  },
  {
   "cell_type": "code",
   "execution_count": 2,
   "metadata": {},
   "outputs": [],
   "source": [
    "npz = np.load('Audiobooks_data_train.npz')\n",
    "\n",
    "train_inputs = npz['inputs'].astype(np.float)\n",
    "train_targets = npz['targets'].astype(np.int)\n",
    "\n",
    "npz = np.load('Audiobooks_data_validation.npz')\n",
    "\n",
    "validation_inputs = npz['inputs'].astype(np.float)\n",
    "validation_targets = npz['targets'].astype(np.int)\n",
    "\n",
    "npz = np.load('Audiobooks_data_test.npz')\n",
    "\n",
    "test_inputs = npz['inputs'].astype(np.float)\n",
    "test_targets = npz['targets'].astype(np.int)"
   ]
  },
  {
   "cell_type": "markdown",
   "metadata": {},
   "source": [
    "## Model"
   ]
  },
  {
   "cell_type": "code",
   "execution_count": 6,
   "metadata": {},
   "outputs": [
    {
     "name": "stdout",
     "output_type": "stream",
     "text": [
      "Train on 3579 samples, validate on 447 samples\n",
      "Epoch 1/100\n",
      "3579/3579 - 1s - loss: 0.4864 - accuracy: 0.8332 - val_loss: 0.3769 - val_accuracy: 0.8792\n",
      "Epoch 2/100\n",
      "3579/3579 - 0s - loss: 0.3407 - accuracy: 0.8751 - val_loss: 0.3282 - val_accuracy: 0.8770\n",
      "Epoch 3/100\n",
      "3579/3579 - 0s - loss: 0.3098 - accuracy: 0.8843 - val_loss: 0.3095 - val_accuracy: 0.8792\n",
      "Epoch 4/100\n",
      "3579/3579 - 0s - loss: 0.2936 - accuracy: 0.8896 - val_loss: 0.3003 - val_accuracy: 0.8904\n",
      "Epoch 5/100\n",
      "3579/3579 - 0s - loss: 0.2797 - accuracy: 0.8966 - val_loss: 0.2910 - val_accuracy: 0.8926\n",
      "Epoch 6/100\n",
      "3579/3579 - 0s - loss: 0.2707 - accuracy: 0.8983 - val_loss: 0.2846 - val_accuracy: 0.8971\n",
      "Epoch 7/100\n",
      "3579/3579 - 0s - loss: 0.2637 - accuracy: 0.9003 - val_loss: 0.2775 - val_accuracy: 0.8993\n",
      "Epoch 8/100\n",
      "3579/3579 - 0s - loss: 0.2576 - accuracy: 0.9047 - val_loss: 0.2802 - val_accuracy: 0.8971\n",
      "Epoch 9/100\n",
      "3579/3579 - 0s - loss: 0.2545 - accuracy: 0.9047 - val_loss: 0.2734 - val_accuracy: 0.9016\n",
      "Epoch 10/100\n",
      "3579/3579 - 0s - loss: 0.2496 - accuracy: 0.9078 - val_loss: 0.2795 - val_accuracy: 0.8949\n",
      "Epoch 11/100\n",
      "3579/3579 - 0s - loss: 0.2471 - accuracy: 0.9058 - val_loss: 0.2714 - val_accuracy: 0.8993\n",
      "Epoch 12/100\n",
      "3579/3579 - 0s - loss: 0.2458 - accuracy: 0.9064 - val_loss: 0.2668 - val_accuracy: 0.9016\n",
      "Epoch 13/100\n",
      "3579/3579 - 0s - loss: 0.2405 - accuracy: 0.9100 - val_loss: 0.2645 - val_accuracy: 0.8993\n",
      "Epoch 14/100\n",
      "3579/3579 - 0s - loss: 0.2408 - accuracy: 0.9086 - val_loss: 0.2635 - val_accuracy: 0.8993\n",
      "Epoch 15/100\n",
      "3579/3579 - 0s - loss: 0.2368 - accuracy: 0.9095 - val_loss: 0.2655 - val_accuracy: 0.8993\n",
      "Epoch 16/100\n",
      "3579/3579 - 0s - loss: 0.2353 - accuracy: 0.9137 - val_loss: 0.2628 - val_accuracy: 0.9016\n",
      "Epoch 17/100\n",
      "3579/3579 - 0s - loss: 0.2347 - accuracy: 0.9120 - val_loss: 0.2620 - val_accuracy: 0.8993\n",
      "Epoch 18/100\n",
      "3579/3579 - 0s - loss: 0.2336 - accuracy: 0.9131 - val_loss: 0.2688 - val_accuracy: 0.9016\n",
      "Epoch 19/100\n",
      "3579/3579 - 0s - loss: 0.2307 - accuracy: 0.9134 - val_loss: 0.2608 - val_accuracy: 0.9016\n",
      "Epoch 20/100\n",
      "3579/3579 - 0s - loss: 0.2290 - accuracy: 0.9148 - val_loss: 0.2595 - val_accuracy: 0.8993\n",
      "Epoch 21/100\n",
      "3579/3579 - 0s - loss: 0.2288 - accuracy: 0.9151 - val_loss: 0.2646 - val_accuracy: 0.9038\n",
      "Epoch 22/100\n",
      "3579/3579 - 0s - loss: 0.2282 - accuracy: 0.9145 - val_loss: 0.2562 - val_accuracy: 0.9060\n",
      "Epoch 23/100\n",
      "3579/3579 - 0s - loss: 0.2263 - accuracy: 0.9142 - val_loss: 0.2623 - val_accuracy: 0.8993\n",
      "Epoch 24/100\n",
      "3579/3579 - 0s - loss: 0.2251 - accuracy: 0.9167 - val_loss: 0.2629 - val_accuracy: 0.9060\n"
     ]
    },
    {
     "data": {
      "text/plain": [
       "<tensorflow.python.keras.callbacks.History at 0x22673f92c08>"
      ]
     },
     "execution_count": 6,
     "metadata": {},
     "output_type": "execute_result"
    }
   ],
   "source": [
    "input_size = 10\n",
    "output_size = 2\n",
    "hidden_layer_size = 50\n",
    "\n",
    "model = tf.keras.Sequential([\n",
    "    tf.keras.layers.Dense(hidden_layer_size, activation='relu'),\n",
    "    tf.keras.layers.Dense(hidden_layer_size, activation='relu'),\n",
    "    tf.keras.layers.Dense(output_size, activation='softmax')\n",
    "])\n",
    "\n",
    "model.compile(optimizer='adam', loss='sparse_categorical_crossentropy', metrics=['accuracy'])\n",
    "\n",
    "batch_size = 100\n",
    "max_epochs = 100\n",
    "early_stopping = tf.keras.callbacks.EarlyStopping(patience=2)\n",
    "\n",
    "model.fit(train_inputs, \n",
    "          train_targets, \n",
    "          batch_size = batch_size, \n",
    "          epochs = max_epochs, \n",
    "          callbacks = [early_stopping],\n",
    "          validation_data=(validation_inputs, validation_targets),\n",
    "          verbose=2)"
   ]
  },
  {
   "cell_type": "code",
   "execution_count": null,
   "metadata": {},
   "outputs": [],
   "source": []
  }
 ],
 "metadata": {
  "kernelspec": {
   "display_name": "Python 3",
   "language": "python",
   "name": "python3"
  },
  "language_info": {
   "codemirror_mode": {
    "name": "ipython",
    "version": 3
   },
   "file_extension": ".py",
   "mimetype": "text/x-python",
   "name": "python",
   "nbconvert_exporter": "python",
   "pygments_lexer": "ipython3",
   "version": "3.7.7"
  }
 },
 "nbformat": 4,
 "nbformat_minor": 4
}
