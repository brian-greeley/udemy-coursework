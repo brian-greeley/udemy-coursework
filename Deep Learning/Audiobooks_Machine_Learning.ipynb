{
 "cells": [
  {
   "cell_type": "markdown",
   "metadata": {},
   "source": [
    "# Create the machine learning algorithm"
   ]
  },
  {
   "cell_type": "markdown",
   "metadata": {},
   "source": [
    "## Import the relevant libraries"
   ]
  },
  {
   "cell_type": "code",
   "execution_count": 1,
   "metadata": {},
   "outputs": [],
   "source": [
    "import numpy as np\n",
    "import tensorflow as tf"
   ]
  },
  {
   "cell_type": "markdown",
   "metadata": {},
   "source": [
    "## Data"
   ]
  },
  {
   "cell_type": "code",
   "execution_count": 2,
   "metadata": {},
   "outputs": [],
   "source": [
    "npz = np.load('Audiobooks_data_train.npz')\n",
    "\n",
    "train_inputs = npz['inputs'].astype(np.float)\n",
    "train_targets = npz['targets'].astype(np.int)\n",
    "\n",
    "npz = np.load('Audiobooks_data_validation.npz')\n",
    "\n",
    "validation_inputs = npz['inputs'].astype(np.float)\n",
    "validation_targets = npz['targets'].astype(np.int)\n",
    "\n",
    "npz = np.load('Audiobooks_data_test.npz')\n",
    "\n",
    "test_inputs = npz['inputs'].astype(np.float)\n",
    "test_targets = npz['targets'].astype(np.int)"
   ]
  },
  {
   "cell_type": "markdown",
   "metadata": {},
   "source": [
    "## Model"
   ]
  },
  {
   "cell_type": "code",
   "execution_count": 10,
   "metadata": {},
   "outputs": [
    {
     "name": "stdout",
     "output_type": "stream",
     "text": [
      "Train on 3579 samples, validate on 447 samples\n",
      "Epoch 1/100\n",
      "3579/3579 - 0s - loss: 0.4663 - accuracy: 0.8332 - val_loss: 0.3560 - val_accuracy: 0.8725\n",
      "Epoch 2/100\n",
      "3579/3579 - 0s - loss: 0.3255 - accuracy: 0.8815 - val_loss: 0.3140 - val_accuracy: 0.8814\n",
      "Epoch 3/100\n",
      "3579/3579 - 0s - loss: 0.2919 - accuracy: 0.8908 - val_loss: 0.2942 - val_accuracy: 0.8881\n",
      "Epoch 4/100\n",
      "3579/3579 - 0s - loss: 0.2740 - accuracy: 0.8980 - val_loss: 0.2827 - val_accuracy: 0.8926\n",
      "Epoch 5/100\n",
      "3579/3579 - 0s - loss: 0.2598 - accuracy: 0.9028 - val_loss: 0.2764 - val_accuracy: 0.8971\n",
      "Epoch 6/100\n",
      "3579/3579 - 0s - loss: 0.2537 - accuracy: 0.9033 - val_loss: 0.2689 - val_accuracy: 0.8993\n",
      "Epoch 7/100\n",
      "3579/3579 - 0s - loss: 0.2522 - accuracy: 0.9067 - val_loss: 0.2667 - val_accuracy: 0.8971\n",
      "Epoch 8/100\n",
      "3579/3579 - 0s - loss: 0.2448 - accuracy: 0.9078 - val_loss: 0.2900 - val_accuracy: 0.8949\n",
      "Epoch 9/100\n",
      "3579/3579 - 0s - loss: 0.2421 - accuracy: 0.9081 - val_loss: 0.2635 - val_accuracy: 0.9038\n",
      "Epoch 10/100\n",
      "3579/3579 - 0s - loss: 0.2389 - accuracy: 0.9114 - val_loss: 0.2677 - val_accuracy: 0.8993\n",
      "Epoch 11/100\n",
      "3579/3579 - 0s - loss: 0.2372 - accuracy: 0.9103 - val_loss: 0.2609 - val_accuracy: 0.8971\n",
      "Epoch 12/100\n",
      "3579/3579 - 0s - loss: 0.2368 - accuracy: 0.9128 - val_loss: 0.2693 - val_accuracy: 0.8993\n",
      "Epoch 13/100\n",
      "3579/3579 - 0s - loss: 0.2326 - accuracy: 0.9123 - val_loss: 0.2834 - val_accuracy: 0.8993\n"
     ]
    },
    {
     "data": {
      "text/plain": [
       "<tensorflow.python.keras.callbacks.History at 0x22676b42a48>"
      ]
     },
     "execution_count": 10,
     "metadata": {},
     "output_type": "execute_result"
    }
   ],
   "source": [
    "input_size = 10\n",
    "output_size = 2\n",
    "hidden_layer_size = 100\n",
    "\n",
    "model = tf.keras.Sequential([\n",
    "    tf.keras.layers.Dense(hidden_layer_size, activation='relu'),\n",
    "    tf.keras.layers.Dense(hidden_layer_size, activation='relu'),\n",
    "    tf.keras.layers.Dense(output_size, activation='softmax')\n",
    "])\n",
    "\n",
    "model.compile(optimizer='adam', loss='sparse_categorical_crossentropy', metrics=['accuracy'])\n",
    "\n",
    "batch_size = 100\n",
    "max_epochs = 100\n",
    "early_stopping = tf.keras.callbacks.EarlyStopping(patience=2)\n",
    "\n",
    "model.fit(train_inputs, \n",
    "          train_targets, \n",
    "          batch_size = batch_size, \n",
    "          epochs = max_epochs, \n",
    "          callbacks = [early_stopping],\n",
    "          validation_data=(validation_inputs, validation_targets),\n",
    "          verbose=2)"
   ]
  },
  {
   "cell_type": "markdown",
   "metadata": {},
   "source": [
    "## Test the model"
   ]
  },
  {
   "cell_type": "code",
   "execution_count": 11,
   "metadata": {},
   "outputs": [
    {
     "name": "stdout",
     "output_type": "stream",
     "text": [
      "448/448 [==============================] - 0s 213us/sample - loss: 0.2401 - accuracy: 0.9107\n"
     ]
    }
   ],
   "source": [
    "test_loss, test_accuracy = model.evaluate(test_inputs, test_targets)"
   ]
  },
  {
   "cell_type": "code",
   "execution_count": null,
   "metadata": {},
   "outputs": [],
   "source": []
  }
 ],
 "metadata": {
  "kernelspec": {
   "display_name": "Python 3",
   "language": "python",
   "name": "python3"
  },
  "language_info": {
   "codemirror_mode": {
    "name": "ipython",
    "version": 3
   },
   "file_extension": ".py",
   "mimetype": "text/x-python",
   "name": "python",
   "nbconvert_exporter": "python",
   "pygments_lexer": "ipython3",
   "version": "3.7.7"
  }
 },
 "nbformat": 4,
 "nbformat_minor": 4
}
