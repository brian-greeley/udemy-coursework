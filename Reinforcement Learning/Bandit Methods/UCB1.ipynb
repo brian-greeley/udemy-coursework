{
 "cells": [
  {
   "cell_type": "code",
   "execution_count": 1,
   "metadata": {},
   "outputs": [],
   "source": [
    "import numpy as np\n",
    "import matplotlib.pyplot as plt"
   ]
  },
  {
   "cell_type": "code",
   "execution_count": 2,
   "metadata": {},
   "outputs": [],
   "source": [
    "NUM_TRIALS = 10000\n",
    "EPS = 0.1\n",
    "BANDIT_PROBABILITIES = [0.2,0.5,0.75]"
   ]
  },
  {
   "cell_type": "code",
   "execution_count": 3,
   "metadata": {},
   "outputs": [],
   "source": [
    "class Bandit:\n",
    "    def __init__(self, p):\n",
    "        self.p = p\n",
    "        self.p_estimate = 0.\n",
    "        self.N = 0.\n",
    "        \n",
    "    def pull(self):\n",
    "        return np.random.random() < self.p\n",
    "    \n",
    "    def update(self, x):\n",
    "        self.N +=1\n",
    "        self.p_estimate = ((self.N-1)*self.p_estimate+x)/self.N"
   ]
  },
  {
   "cell_type": "code",
   "execution_count": 4,
   "metadata": {},
   "outputs": [],
   "source": [
    "def ucb(mean, n, nj):\n",
    "    return mean + np.sqrt(2*np.log(n)/nj)"
   ]
  },
  {
   "cell_type": "code",
   "execution_count": 9,
   "metadata": {},
   "outputs": [],
   "source": [
    "def run_experiment():\n",
    "    bandits = [Bandit(p) for p in BANDIT_PROBABILITIES]\n",
    "    rewards = np.empty(NUM_TRIALS)\n",
    "    total_plays = 0\n",
    "    \n",
    "    #play each bandit once\n",
    "    for j in range(len(bandits)):\n",
    "        x = bandits[j].pull()\n",
    "        total_plays += 1\n",
    "        bandits[j].update(x)\n",
    "    \n",
    "    for i in range(NUM_TRIALS):\n",
    "        j = np.argmax([ucb(b.p_estimate, total_plays, b.N) for b in bandits])\n",
    "        x = bandits[j].pull()\n",
    "        total_plays += 1\n",
    "        bandits[j].update(x)\n",
    "        \n",
    "        rewards[i] = x\n",
    "    cumulative_average = np.cumsum(rewards) / (np.arange(NUM_TRIALS)+1)\n",
    "    \n",
    "    plt.plot(cumulative_average)\n",
    "    plt.plot(np.ones(NUM_TRIALS)*np.max(BANDIT_PROBABILITIES))\n",
    "    plt.xscale('log')\n",
    "    plt.show()"
   ]
  },
  {
   "cell_type": "code",
   "execution_count": 10,
   "metadata": {},
   "outputs": [
    {
     "data": {
      "image/png": "[encoded data removed]",
      "text/plain": [
       "<Figure size 432x288 with 1 Axes>"
      ]
     },
     "metadata": {
      "needs_background": "light"
     },
     "output_type": "display_data"
    }
   ],
   "source": [
    "run_experiment()"
   ]
  },
  {
   "cell_type": "code",
   "execution_count": null,
   "metadata": {},
   "outputs": [],
   "source": []
  }
 ],
 "metadata": {
  "kernelspec": {
   "display_name": "Python 3",
   "language": "python",
   "name": "python3"
  },
  "language_info": {
   "codemirror_mode": {
    "name": "ipython",
    "version": 3
   },
   "file_extension": ".py",
   "mimetype": "text/x-python",
   "name": "python",
   "nbconvert_exporter": "python",
   "pygments_lexer": "ipython3",
   "version": "3.7.7"
  }
 },
 "nbformat": 4,
 "nbformat_minor": 4
}
