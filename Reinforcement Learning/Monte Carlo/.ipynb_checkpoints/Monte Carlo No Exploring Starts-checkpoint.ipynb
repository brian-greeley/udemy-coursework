{
 "cells": [
  {
   "cell_type": "code",
   "execution_count": 2,
   "metadata": {},
   "outputs": [],
   "source": [
    "import numpy as np\n",
    "import matplotlib.pyplot as plt"
   ]
  },
  {
   "cell_type": "code",
   "execution_count": 3,
   "metadata": {},
   "outputs": [],
   "source": [
    "class Grid:\n",
    "    def __init__(self, rows, cols, start):\n",
    "        self.rows = rows\n",
    "        self.cols = cols\n",
    "        self.i = start[0]\n",
    "        self.j = start[1]\n",
    "    \n",
    "    def set(self, rewards, actions):\n",
    "        self.rewards = rewards\n",
    "        self.actions = actions\n",
    "        \n",
    "    def set_state(self, s):\n",
    "        self.i = s[0]\n",
    "        self.j = s[1]\n",
    "    \n",
    "    def current_state(self):\n",
    "        return (self.i, self.j)\n",
    "    \n",
    "    def is_terminal(self, s):\n",
    "        return s not in self.actions\n",
    "    \n",
    "    def get_next_state(self, s, a):\n",
    "        i, j = s[0], s[1]\n",
    "        if a in self.actions[(i,j)]:\n",
    "            if a == 'U':\n",
    "                i -= 1\n",
    "            elif a == 'D':\n",
    "                i += 1\n",
    "            elif a == 'R':\n",
    "                j += 1\n",
    "            elif a == 'L':\n",
    "                j -= 1\n",
    "        return i, j\n",
    "    \n",
    "    def move(self, action):\n",
    "        if action in self.actions[(self.i,self.j)]:\n",
    "            if action == 'U':\n",
    "                self.i -= 1\n",
    "            elif action == 'D':\n",
    "                self.i += 1\n",
    "            elif action == 'R':\n",
    "                self.j += 1\n",
    "            elif action == 'L':\n",
    "                self.j -= 1\n",
    "        return self.rewards.get((self.i, self.j), 0)\n",
    "    \n",
    "    def undo_move(self, action):\n",
    "        if action == 'U':\n",
    "            self.i += 1\n",
    "        elif action == 'D':\n",
    "            self.i -= 1\n",
    "        elif action == 'R':\n",
    "            self.j -= 1\n",
    "        elif action == 'L':\n",
    "            self.j += 1\n",
    "        assert(self.current_state() in self.all_states())\n",
    "        \n",
    "    def game_over(self):\n",
    "        return (self.i, self.j) not in self.actions\n",
    "    \n",
    "    def all_states(self):\n",
    "        return set(self.actions.keys()) | set(self.rewards.keys())"
   ]
  },
  {
   "cell_type": "code",
   "execution_count": 4,
   "metadata": {},
   "outputs": [],
   "source": [
    "def standard_grid():\n",
    "    g = Grid(3,4,(2,0))\n",
    "    rewards = {\n",
    "        (0,3):1,\n",
    "        (1,3):-1\n",
    "    }\n",
    "    actions = {\n",
    "        (0,0): ('D', 'R'),\n",
    "        (0,1): ('L', 'R'),\n",
    "        (0,2): ('L', 'D', 'R'),\n",
    "        (1,0): ('U', 'D'),\n",
    "        (1,2): ('U', 'D', 'R'),\n",
    "        (2,0): ('U', 'R'),\n",
    "        (2,1): ('L', 'R'),\n",
    "        (2,2): ('L', 'U', 'R'),\n",
    "        (2,3): ('L', 'U')\n",
    "    }\n",
    "    g.set(rewards, actions)\n",
    "    return g"
   ]
  },
  {
   "cell_type": "code",
   "execution_count": 5,
   "metadata": {},
   "outputs": [],
   "source": [
    "GAMMA = 0.9\n",
    "ACTION_SPACE = ('U', 'D', 'L', 'R')"
   ]
  },
  {
   "cell_type": "code",
   "execution_count": 6,
   "metadata": {},
   "outputs": [],
   "source": [
    "def print_values(V, g):\n",
    "    for i in range(g.rows):\n",
    "        print(\"---------------------------------\")\n",
    "        for j in range(g.cols):\n",
    "            v = V.get((i,j),0)\n",
    "            if v >= 0:\n",
    "                print(\" %.2f|\"%v, end=\"\")\n",
    "            else:\n",
    "                print(\"%.2f|\"%v, end=\"\")\n",
    "        print(\"\")\n",
    "        \n",
    "def print_policy(P, g):\n",
    "    for i in range(g.rows):\n",
    "        print(\"----------------------------------\")\n",
    "        for j in range(g.cols):\n",
    "            a = P.get((i,j), ' ')\n",
    "            print(\"  %s  |\"% a, end=\"\")\n",
    "        print(\"\")"
   ]
  },
  {
   "cell_type": "code",
   "execution_count": 7,
   "metadata": {},
   "outputs": [],
   "source": [
    "def max_dict(d):\n",
    "    max_key = None\n",
    "    max_val = float('-inf')\n",
    "    for k, v in d.items():\n",
    "        if v > max_val:\n",
    "            max_val = v\n",
    "            max_key = k\n",
    "    return max_key, max_val"
   ]
  },
  {
   "cell_type": "code",
   "execution_count": 8,
   "metadata": {},
   "outputs": [],
   "source": [
    "def random_action(a, eps=0.1):\n",
    "    p = np.random.random()\n",
    "    if p < (1-eps):\n",
    "        return a\n",
    "    else:\n",
    "        return np.random.choice(ACTION_SPACE)"
   ]
  },
  {
   "cell_type": "code",
   "execution_count": 9,
   "metadata": {},
   "outputs": [],
   "source": [
    "def play_game(grid, policy):\n",
    "    s = (2,0)\n",
    "    grid.set_state(s)\n",
    "    a = random_action(policy[s])\n",
    "    states_actions_rewards = [(s,a,0)]\n",
    "    while True:\n",
    "        r = grid.move(a)\n",
    "        s = grid.current_state()\n",
    "        if grid.game_over():\n",
    "            states_actions_rewards.append((s, None, r))\n",
    "            break\n",
    "        else:\n",
    "            a = random_action(policy[s])\n",
    "            states_actions_rewards.append((s,a,r))\n",
    "    G = 0\n",
    "    states_actions_returns = []\n",
    "    first = True\n",
    "    for s, a, r in reversed(states_actions_rewards):\n",
    "        if first:\n",
    "            first = False\n",
    "        else:\n",
    "            states_actions_returns.append((s, a, G))\n",
    "        G = r+GAMMA*G\n",
    "    states_actions_returns.reverse()\n",
    "    return states_actions_returns"
   ]
  },
  {
   "cell_type": "code",
   "execution_count": 11,
   "metadata": {},
   "outputs": [
    {
     "name": "stdout",
     "output_type": "stream",
     "text": [
      "rewards:\n",
      "---------------------------------\n",
      " 0.00| 0.00| 0.00| 1.00|\n",
      "---------------------------------\n",
      " 0.00| 0.00| 0.00|-1.00|\n",
      "---------------------------------\n",
      " 0.00| 0.00| 0.00| 0.00|\n",
      "0\n",
      "1000\n",
      "2000\n",
      "3000\n",
      "4000\n"
     ]
    },
    {
     "data": {
      "image/png": "[encoded data removed]",
      "text/plain": [
       "<Figure size 432x288 with 1 Axes>"
      ]
     },
     "metadata": {
      "needs_background": "light"
     },
     "output_type": "display_data"
    },
    {
     "name": "stdout",
     "output_type": "stream",
     "text": [
      "final values\n",
      "---------------------------------\n",
      " 0.79| 0.89| 1.00| 0.00|\n",
      "---------------------------------\n",
      " 0.70| 0.00| 0.89| 0.00|\n",
      "---------------------------------\n",
      " 0.63| 0.67| 0.76| 0.70|\n",
      "final policy\n",
      "----------------------------------\n",
      "  R  |  R  |  R  |     |\n",
      "----------------------------------\n",
      "  U  |     |  U  |     |\n",
      "----------------------------------\n",
      "  U  |  R  |  U  |  L  |\n"
     ]
    }
   ],
   "source": [
    "grid = standard_grid()\n",
    "print(\"rewards:\")\n",
    "print_values(grid.rewards, grid)\n",
    "policy = {}\n",
    "for s in grid.actions.keys():\n",
    "    policy[s] = np.random.choice(ACTION_SPACE)\n",
    "    \n",
    "Q = {}\n",
    "returns = {}\n",
    "states = grid.all_states()\n",
    "for s in states:\n",
    "    if s in grid.actions:\n",
    "        Q[s] = {}\n",
    "        for a in ACTION_SPACE:\n",
    "            Q[s][a] = 0\n",
    "            returns[(s,a)] = []\n",
    "    else:\n",
    "        pass\n",
    "deltas = []\n",
    "for t in range(5000):\n",
    "    if t % 1000 == 0:\n",
    "        print(t)\n",
    "    biggest_change = 0\n",
    "    states_actions_returns = play_game(grid, policy)\n",
    "    seen_state_action_pairs = set()\n",
    "    for s, a, G in states_actions_returns:\n",
    "        sa = (s,a)\n",
    "        if sa not in seen_state_action_pairs:\n",
    "            old_q = Q[s][a]\n",
    "            returns[sa].append(G)\n",
    "            Q[s][a] = np.mean(returns[sa])\n",
    "            biggest_change = max(biggest_change, np.abs(old_q - Q[s][a]))\n",
    "            seen_state_action_pairs.add(sa)\n",
    "    deltas.append(biggest_change)\n",
    "    \n",
    "    for s in policy.keys():\n",
    "        a, _ = max_dict(Q[s])\n",
    "        policy[s] = a\n",
    "    \n",
    "plt.plot(deltas)\n",
    "plt.show()\n",
    "    \n",
    "V = {}\n",
    "for s in policy.keys():\n",
    "    V[s] = max_dict(Q[s])[1]\n",
    "        \n",
    "print(\"final values\")\n",
    "print_values(V, grid)\n",
    "print(\"final policy\")\n",
    "print_policy(policy, grid)\n",
    "    "
   ]
  },
  {
   "cell_type": "code",
   "execution_count": null,
   "metadata": {},
   "outputs": [],
   "source": []
  }
 ],
 "metadata": {
  "kernelspec": {
   "display_name": "Python 3",
   "language": "python",
   "name": "python3"
  },
  "language_info": {
   "codemirror_mode": {
    "name": "ipython",
    "version": 3
   },
   "file_extension": ".py",
   "mimetype": "text/x-python",
   "name": "python",
   "nbconvert_exporter": "python",
   "pygments_lexer": "ipython3",
   "version": "3.7.6"
  }
 },
 "nbformat": 4,
 "nbformat_minor": 4
}
